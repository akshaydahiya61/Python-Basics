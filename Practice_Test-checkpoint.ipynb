{
 "cells": [
  {
   "cell_type": "code",
   "execution_count": 2,
   "id": "1082559a-16a3-41b2-bbaa-2323938b3f6d",
   "metadata": {},
   "outputs": [
    {
     "name": "stdout",
     "output_type": "stream",
     "text": [
      "Hello world\n"
     ]
    }
   ],
   "source": [
    "print('Hello world')"
   ]
  },
  {
   "cell_type": "code",
   "execution_count": 3,
   "id": "85de4493-fa99-442c-add3-aa98184bc02e",
   "metadata": {},
   "outputs": [],
   "source": [
    "x = 22"
   ]
  },
  {
   "cell_type": "code",
   "execution_count": 4,
   "id": "0d8c599d-1985-4387-b702-a6ae43036217",
   "metadata": {},
   "outputs": [
    {
     "name": "stdout",
     "output_type": "stream",
     "text": [
      "22\n"
     ]
    }
   ],
   "source": [
    "print(x)"
   ]
  },
  {
   "cell_type": "code",
   "execution_count": 10,
   "id": "d9d132b2-c209-4f8a-a8d8-04a192a394f9",
   "metadata": {},
   "outputs": [
    {
     "data": {
      "text/plain": [
       "int"
      ]
     },
     "execution_count": 10,
     "metadata": {},
     "output_type": "execute_result"
    }
   ],
   "source": [
    "type(x)"
   ]
  },
  {
   "cell_type": "code",
   "execution_count": 7,
   "id": "2d3047a3-6aec-4276-a8f2-7ee9fe519670",
   "metadata": {},
   "outputs": [
    {
     "name": "stdout",
     "output_type": "stream",
     "text": [
      "You can Do IT Akshay\n"
     ]
    }
   ],
   "source": [
    "y = 'You can Do IT Akshay'\n",
    "print(y)"
   ]
  },
  {
   "cell_type": "code",
   "execution_count": 9,
   "id": "4cbdf79c-1d76-43bc-ac54-c566ea2bf7ea",
   "metadata": {},
   "outputs": [
    {
     "data": {
      "text/plain": [
       "str"
      ]
     },
     "execution_count": 9,
     "metadata": {},
     "output_type": "execute_result"
    }
   ],
   "source": [
    "type(y)"
   ]
  },
  {
   "cell_type": "code",
   "execution_count": 11,
   "id": "5dbca883-72b8-4025-8d37-5fbfdc6870f8",
   "metadata": {},
   "outputs": [],
   "source": [
    "#snake case (how to write the variables)\n",
    "#for example we use underscore _ to write neatly\n",
    "# ex- Hello_Akshay_Dahiya"
   ]
  },
  {
   "cell_type": "code",
   "execution_count": 13,
   "id": "2eb10861-1bc6-499a-82e2-b0af52c3dba6",
   "metadata": {},
   "outputs": [
    {
     "name": "stdout",
     "output_type": "stream",
     "text": [
      "Akshay you can do it.\n"
     ]
    }
   ],
   "source": [
    "# we can add integer plus integer but cannot string with integer\n",
    "# for example\n",
    "x = 'Akshay you can do it' + '.'\n",
    "print(x)"
   ]
  },
  {
   "cell_type": "code",
   "execution_count": 15,
   "id": "6ead8ac1-d8fb-4b1d-b140-1ccbb6c31c59",
   "metadata": {},
   "outputs": [
    {
     "ename": "TypeError",
     "evalue": "can only concatenate str (not \"int\") to str",
     "output_type": "error",
     "traceback": [
      "\u001b[1;31m---------------------------------------------------------------------------\u001b[0m",
      "\u001b[1;31mTypeError\u001b[0m                                 Traceback (most recent call last)",
      "Cell \u001b[1;32mIn[15], line 3\u001b[0m\n\u001b[0;32m      1\u001b[0m \u001b[38;5;66;03m#in above example we added full stop but we can add integer.\u001b[39;00m\n\u001b[0;32m      2\u001b[0m \u001b[38;5;66;03m#example\u001b[39;00m\n\u001b[1;32m----> 3\u001b[0m x \u001b[38;5;241m=\u001b[39m \u001b[38;5;124m'\u001b[39m\u001b[38;5;124mAkshay you can do it\u001b[39m\u001b[38;5;124m'\u001b[39m \u001b[38;5;241m+\u001b[39m \u001b[38;5;241m2\u001b[39m\n\u001b[0;32m      4\u001b[0m \u001b[38;5;28mprint\u001b[39m(x)\n",
      "\u001b[1;31mTypeError\u001b[0m: can only concatenate str (not \"int\") to str"
     ]
    }
   ],
   "source": [
    "#in above example we added full stop but we can add integer.\n",
    "#example\n",
    "x = 'Akshay you can do it' + 2\n",
    "print(x)\n",
    "\n",
    "# '' - this semi colon is for the string"
   ]
  },
  {
   "cell_type": "code",
   "execution_count": 16,
   "id": "0c09ab28-7c00-452c-a4a4-07db644d2d0b",
   "metadata": {},
   "outputs": [
    {
     "name": "stdout",
     "output_type": "stream",
     "text": [
      "7\n"
     ]
    }
   ],
   "source": [
    "x = 5 + 2\n",
    "print(x)"
   ]
  },
  {
   "cell_type": "markdown",
   "id": "905c4319-710f-4029-a3be-5de6170e67e0",
   "metadata": {},
   "source": [
    "# Data Types"
   ]
  },
  {
   "cell_type": "code",
   "execution_count": 24,
   "id": "d15b57b9-6a90-4799-9cb2-16d296c86dc2",
   "metadata": {},
   "outputs": [],
   "source": [
    "# there are 5 types of data types = numeric, boolean, sequence type, set, dictionary\n",
    "# Numeric Data types = There are 3 different types of numeric data (Integer, Float and complex number"
   ]
  },
  {
   "cell_type": "code",
   "execution_count": 27,
   "id": "d8daa129-8ba8-4171-ae9a-687e515ed1c5",
   "metadata": {},
   "outputs": [],
   "source": [
    "# Numeric"
   ]
  },
  {
   "cell_type": "code",
   "execution_count": 18,
   "id": "7658ef60-2332-41bd-ac65-cb2bc49896c7",
   "metadata": {},
   "outputs": [
    {
     "data": {
      "text/plain": [
       "int"
      ]
     },
     "execution_count": 18,
     "metadata": {},
     "output_type": "execute_result"
    }
   ],
   "source": [
    "type(10 + 21234)"
   ]
  },
  {
   "cell_type": "code",
   "execution_count": 19,
   "id": "efda42b8-cc5a-4bd5-aeed-1dc3558fe04f",
   "metadata": {},
   "outputs": [
    {
     "data": {
      "text/plain": [
       "float"
      ]
     },
     "execution_count": 19,
     "metadata": {},
     "output_type": "execute_result"
    }
   ],
   "source": [
    "type(10 + 21.234)"
   ]
  },
  {
   "cell_type": "code",
   "execution_count": 22,
   "id": "2448776e-ce99-412e-acef-623f30397600",
   "metadata": {},
   "outputs": [
    {
     "data": {
      "text/plain": [
       "complex"
      ]
     },
     "execution_count": 22,
     "metadata": {},
     "output_type": "execute_result"
    }
   ],
   "source": [
    "type(10 + 21j) # j is only work but not any other word. try it"
   ]
  },
  {
   "cell_type": "code",
   "execution_count": null,
   "id": "377876bf-8606-4511-9511-012d62c6a122",
   "metadata": {},
   "outputs": [],
   "source": []
  },
  {
   "cell_type": "code",
   "execution_count": 23,
   "id": "0cbcdc2a-2226-4567-b87b-d9598b67ba71",
   "metadata": {},
   "outputs": [
    {
     "data": {
      "text/plain": [
       "bool"
      ]
     },
     "execution_count": 23,
     "metadata": {},
     "output_type": "execute_result"
    }
   ],
   "source": [
    "# Boolean\n",
    "type(True)"
   ]
  },
  {
   "cell_type": "code",
   "execution_count": 29,
   "id": "655b46f5-8583-4902-8dfd-2aa43db0d21d",
   "metadata": {},
   "outputs": [
    {
     "data": {
      "text/plain": [
       "bool"
      ]
     },
     "execution_count": 29,
     "metadata": {},
     "output_type": "execute_result"
    }
   ],
   "source": [
    "type(1>4) #which is not true"
   ]
  },
  {
   "cell_type": "code",
   "execution_count": 31,
   "id": "67d23620-924d-4833-96fe-fe2c95eedad3",
   "metadata": {},
   "outputs": [
    {
     "data": {
      "text/plain": [
       "False"
      ]
     },
     "execution_count": 31,
     "metadata": {},
     "output_type": "execute_result"
    }
   ],
   "source": [
    "1>4 # which is not true as we can se here"
   ]
  },
  {
   "cell_type": "code",
   "execution_count": null,
   "id": "ef531342-e350-48dd-8440-74d835127dc1",
   "metadata": {},
   "outputs": [],
   "source": [
    "# Strings"
   ]
  },
  {
   "cell_type": "code",
   "execution_count": 32,
   "id": "062394a7-184c-4235-85e6-fe79bf4d6c63",
   "metadata": {},
   "outputs": [
    {
     "data": {
      "text/plain": [
       "'Akshay You have this job'"
      ]
     },
     "execution_count": 32,
     "metadata": {},
     "output_type": "execute_result"
    }
   ],
   "source": [
    "'Akshay You have this job'"
   ]
  },
  {
   "cell_type": "code",
   "execution_count": 33,
   "id": "30afb0fe-d50b-41c0-98f4-37c19ed65a80",
   "metadata": {},
   "outputs": [
    {
     "data": {
      "text/plain": [
       "'Akshay You have this job'"
      ]
     },
     "execution_count": 33,
     "metadata": {},
     "output_type": "execute_result"
    }
   ],
   "source": [
    "\"Akshay You have this job\""
   ]
  },
  {
   "cell_type": "code",
   "execution_count": 42,
   "id": "f2048590-0eef-4ef9-82f8-c5091996ad1a",
   "metadata": {},
   "outputs": [
    {
     "data": {
      "text/plain": [
       "'\\nAkshay\\nyou are the \\nbest. You get this job.\\n'"
      ]
     },
     "execution_count": 42,
     "metadata": {},
     "output_type": "execute_result"
    }
   ],
   "source": [
    "\"\"\"\n",
    "Akshay\n",
    "you are the \n",
    "best. You get this job.\n",
    "\"\"\""
   ]
  },
  {
   "cell_type": "code",
   "execution_count": 44,
   "id": "9dea28e7-bf1f-49fa-b6ba-ffe9afc6adbe",
   "metadata": {},
   "outputs": [
    {
     "name": "stdout",
     "output_type": "stream",
     "text": [
      "\n",
      "Akshay\n",
      "you are the \n",
      "best. You get this job.\n",
      "\n"
     ]
    }
   ],
   "source": [
    "# better to do this\n",
    "multiline = \"\"\"\n",
    "Akshay\n",
    "you are the \n",
    "best. You get this job.\n",
    "\"\"\"\n",
    "print(multiline)"
   ]
  },
  {
   "cell_type": "code",
   "execution_count": 4,
   "id": "3de85979-ad5a-49fe-b2bb-c1b6f7e3d0f0",
   "metadata": {},
   "outputs": [
    {
     "name": "stdout",
     "output_type": "stream",
     "text": [
      "Hello World!\n"
     ]
    }
   ],
   "source": [
    "# inducts in string means counting the letter in the string and starts with zero\n",
    "a = 'Hello World!'\n",
    "print (a)"
   ]
  },
  {
   "cell_type": "code",
   "execution_count": 5,
   "id": "cf217247-021b-4549-87b0-c5a5cf7305c1",
   "metadata": {},
   "outputs": [
    {
     "name": "stdout",
     "output_type": "stream",
     "text": [
      "Hello W\n"
     ]
    }
   ],
   "source": [
    "#inductioon\n",
    "print(a[:7]) # start with zero print till 7"
   ]
  },
  {
   "cell_type": "code",
   "execution_count": 6,
   "id": "4d39d0c2-24d5-410a-88fd-ec33b12b3c01",
   "metadata": {},
   "outputs": [
    {
     "name": "stdout",
     "output_type": "stream",
     "text": [
      "o\n"
     ]
    }
   ],
   "source": [
    "print(a[7]) #start with 0 and print only 7"
   ]
  },
  {
   "cell_type": "code",
   "execution_count": 7,
   "id": "ad9a7d0e-f733-410e-92d9-6a5576e05b3d",
   "metadata": {},
   "outputs": [
    {
     "name": "stdout",
     "output_type": "stream",
     "text": [
      "d\n"
     ]
    }
   ],
   "source": [
    "print(a[-2]) # starts with backward"
   ]
  },
  {
   "cell_type": "code",
   "execution_count": 8,
   "id": "b09468be-9e2a-4810-9d1d-e8a8d6054a23",
   "metadata": {},
   "outputs": [
    {
     "name": "stdout",
     "output_type": "stream",
     "text": [
      "llo W\n"
     ]
    }
   ],
   "source": [
    "print(a[2:7]) #start with 2 till 7 ND PRINT"
   ]
  },
  {
   "cell_type": "code",
   "execution_count": 9,
   "id": "11438dfb-4a49-4325-baab-a4443e0a8bce",
   "metadata": {},
   "outputs": [
    {
     "data": {
      "text/plain": [
       "'Hello World!Hello World!'"
      ]
     },
     "execution_count": 9,
     "metadata": {},
     "output_type": "execute_result"
    }
   ],
   "source": [
    "a*2"
   ]
  },
  {
   "cell_type": "code",
   "execution_count": 10,
   "id": "d6c35f89-0ecf-40ad-87be-0c8e29f295a9",
   "metadata": {},
   "outputs": [
    {
     "data": {
      "text/plain": [
       "[2, 3, 4, 4]"
      ]
     },
     "execution_count": 10,
     "metadata": {},
     "output_type": "execute_result"
    }
   ],
   "source": [
    "# Lists\n",
    "[2,3,4,4]"
   ]
  },
  {
   "cell_type": "code",
   "execution_count": 11,
   "id": "71613420-ddaf-4148-9586-12377db2cb1e",
   "metadata": {},
   "outputs": [
    {
     "data": {
      "text/plain": [
       "['Akshay', 'You can do it', 'I clear this interview']"
      ]
     },
     "execution_count": 11,
     "metadata": {},
     "output_type": "execute_result"
    }
   ],
   "source": [
    "['Akshay', 'You can do it','I clear this interview']"
   ]
  },
  {
   "cell_type": "code",
   "execution_count": 12,
   "id": "28dec023-280b-4b6d-9b1f-16fe088d652c",
   "metadata": {},
   "outputs": [
    {
     "data": {
      "text/plain": [
       "['Akshay', 23, ['you have this', 'job'], 'I clear this interview']"
      ]
     },
     "execution_count": 12,
     "metadata": {},
     "output_type": "execute_result"
    }
   ],
   "source": [
    "['Akshay', 23, ['you have this','job'], 'I clear this interview']"
   ]
  },
  {
   "cell_type": "code",
   "execution_count": 13,
   "id": "86cfa2c7-e752-4c93-9f45-9a5ec87cc911",
   "metadata": {},
   "outputs": [
    {
     "data": {
      "text/plain": [
       "['Akshay', 'You can do it', 'I clear this interview', 'Best']"
      ]
     },
     "execution_count": 13,
     "metadata": {},
     "output_type": "execute_result"
    }
   ],
   "source": [
    "Life = ['Akshay', 'You can do it','I clear this interview']\n",
    "Life.append('Best')\n",
    "Life"
   ]
  },
  {
   "cell_type": "code",
   "execution_count": 14,
   "id": "d61bf0e8-f300-433b-97e3-776fdd6bf1d4",
   "metadata": {},
   "outputs": [
    {
     "data": {
      "text/plain": [
       "['Swati', 'You can do it', 'I clear this interview', 'Best']"
      ]
     },
     "execution_count": 14,
     "metadata": {},
     "output_type": "execute_result"
    }
   ],
   "source": [
    "Life[0] = 'Swati'\n",
    "Life"
   ]
  },
  {
   "cell_type": "code",
   "execution_count": 15,
   "id": "2d451fcb-4882-4649-b44b-5ba1a0e0f19c",
   "metadata": {},
   "outputs": [],
   "source": [
    "#Nested List\n",
    "Nested_List = ['Akshay', 23, ['you have this','job'], 'I will clear this interview']"
   ]
  },
  {
   "cell_type": "code",
   "execution_count": 16,
   "id": "0e45677f-d8df-48e3-8f7a-c1fa06a58c69",
   "metadata": {},
   "outputs": [
    {
     "data": {
      "text/plain": [
       "'you have this'"
      ]
     },
     "execution_count": 16,
     "metadata": {},
     "output_type": "execute_result"
    }
   ],
   "source": [
    "Nested_List[2][0]"
   ]
  },
  {
   "cell_type": "code",
   "execution_count": 17,
   "id": "c7504fb9-11f4-4a76-b731-abeb17dbb87a",
   "metadata": {},
   "outputs": [],
   "source": [
    "# TUPLE (we use tuple when there no change will ever happen)"
   ]
  },
  {
   "cell_type": "code",
   "execution_count": 18,
   "id": "2bb6458a-57bd-429d-b7ac-fda962114c67",
   "metadata": {},
   "outputs": [],
   "source": [
    "tuple_list = (91,2,3,4,5)"
   ]
  },
  {
   "cell_type": "code",
   "execution_count": 19,
   "id": "d6bf9647-a5a0-4724-a9ab-c062817a9746",
   "metadata": {},
   "outputs": [
    {
     "data": {
      "text/plain": [
       "tuple"
      ]
     },
     "execution_count": 19,
     "metadata": {},
     "output_type": "execute_result"
    }
   ],
   "source": [
    "type(tuple_list)"
   ]
  },
  {
   "cell_type": "code",
   "execution_count": 20,
   "id": "60245dd5-abe2-46d0-be5e-0080b89565c1",
   "metadata": {},
   "outputs": [
    {
     "data": {
      "text/plain": [
       "91"
      ]
     },
     "execution_count": 20,
     "metadata": {},
     "output_type": "execute_result"
    }
   ],
   "source": [
    "tuple_list[0]"
   ]
  },
  {
   "cell_type": "code",
   "execution_count": 21,
   "id": "dfa32348-1ead-463c-91d0-465f1fddbecc",
   "metadata": {},
   "outputs": [
    {
     "ename": "AttributeError",
     "evalue": "'tuple' object has no attribute 'append'",
     "output_type": "error",
     "traceback": [
      "\u001b[1;31m---------------------------------------------------------------------------\u001b[0m",
      "\u001b[1;31mAttributeError\u001b[0m                            Traceback (most recent call last)",
      "Cell \u001b[1;32mIn[21], line 1\u001b[0m\n\u001b[1;32m----> 1\u001b[0m tuple_list\u001b[38;5;241m.\u001b[39mappend(\u001b[38;5;241m1\u001b[39m)\n",
      "\u001b[1;31mAttributeError\u001b[0m: 'tuple' object has no attribute 'append'"
     ]
    }
   ],
   "source": [
    "tuple_list.append(1) #as we can se we cannot change tuples"
   ]
  },
  {
   "cell_type": "code",
   "execution_count": 22,
   "id": "e6c2f00a-7cfa-4ebe-8320-67d5701d6c62",
   "metadata": {},
   "outputs": [],
   "source": [
    "# SETS \n",
    "Daily_Pints = {1,2,3}"
   ]
  },
  {
   "cell_type": "code",
   "execution_count": 23,
   "id": "161c6e4d-529e-44a5-977a-836b7e4c1618",
   "metadata": {},
   "outputs": [
    {
     "name": "stdout",
     "output_type": "stream",
     "text": [
      "{1, 2, 3}\n"
     ]
    }
   ],
   "source": [
    "print(Daily_Pints)"
   ]
  },
  {
   "cell_type": "code",
   "execution_count": 24,
   "id": "cefcfe99-b79f-42a5-a702-ffab5012c498",
   "metadata": {},
   "outputs": [
    {
     "name": "stdout",
     "output_type": "stream",
     "text": [
      "{1, 2, 3, 4, 68, 8, 76, 86, 567}\n"
     ]
    }
   ],
   "source": [
    "Daily_Pints_Log = {1,2,3,4,4,4,4,567,76,68,86,8} # this shows the unique values\n",
    "print(Daily_Pints_Log)"
   ]
  },
  {
   "cell_type": "code",
   "execution_count": 25,
   "id": "bdce8a79-6afc-4be9-bf28-7a38925e35a5",
   "metadata": {},
   "outputs": [
    {
     "name": "stdout",
     "output_type": "stream",
     "text": [
      "{1, 2, 3, 4, 68, 8, 76, 86, 567}\n"
     ]
    }
   ],
   "source": [
    "print(Daily_Pints_Log)"
   ]
  },
  {
   "cell_type": "code",
   "execution_count": 26,
   "id": "c3ac58be-7dcd-4206-8353-2b3fd0a5822a",
   "metadata": {},
   "outputs": [],
   "source": [
    "Wife_Daily_Pints_Log = {5,3,3,2234,234,21,423,4,4,54,6,7,8,8}"
   ]
  },
  {
   "cell_type": "code",
   "execution_count": 27,
   "id": "12496646-c865-4174-8bec-7511392bb2e4",
   "metadata": {},
   "outputs": [
    {
     "name": "stdout",
     "output_type": "stream",
     "text": [
      "{1, 2, 68, 76, 86, 567}\n"
     ]
    }
   ],
   "source": [
    "print(Daily_Pints_Log - Wife_Daily_Pints_Log) # subtrating values"
   ]
  },
  {
   "cell_type": "code",
   "execution_count": 28,
   "id": "3b05196c-2ffc-49b9-a9b7-a505955bd7da",
   "metadata": {},
   "outputs": [
    {
     "name": "stdout",
     "output_type": "stream",
     "text": [
      "{8, 3, 4}\n"
     ]
    }
   ],
   "source": [
    "print(Daily_Pints_Log & Wife_Daily_Pints_Log) # this & is for MATCHES IN BOTH SETS btw 2 "
   ]
  },
  {
   "cell_type": "code",
   "execution_count": 29,
   "id": "42634c5e-c758-41a6-95c8-2d96c8126e4b",
   "metadata": {},
   "outputs": [
    {
     "name": "stdout",
     "output_type": "stream",
     "text": [
      "{1, 2, 3, 4, 68, 5, 6, 8, 7, 76, 21, 86, 423, 234, 54, 567, 2234}\n"
     ]
    }
   ],
   "source": [
    "print(Daily_Pints_Log | Wife_Daily_Pints_Log) # this | is for combine unique value btw 2 sets"
   ]
  },
  {
   "cell_type": "code",
   "execution_count": null,
   "id": "02709262-9d36-4540-8824-d3c3ce53994f",
   "metadata": {},
   "outputs": [],
   "source": []
  },
  {
   "cell_type": "code",
   "execution_count": 30,
   "id": "a5dae1d5-cd11-4d9b-b960-bd468163b92b",
   "metadata": {},
   "outputs": [],
   "source": [
    "# Dictionaries\n",
    "#pairs\n",
    "Dict_List = {'Akshay' : 'You are the best', 'Swat': 1, 'Cheeku': ['4 years old', 1]}"
   ]
  },
  {
   "cell_type": "code",
   "execution_count": 31,
   "id": "ed9542ce-ff9d-43e2-b2ff-48aa4d3cf1c3",
   "metadata": {},
   "outputs": [
    {
     "name": "stdout",
     "output_type": "stream",
     "text": [
      "{'Akshay': 'You are the best', 'Swat': 1, 'Cheeku': ['4 years old', 1]}\n"
     ]
    }
   ],
   "source": [
    "print(Dict_List)"
   ]
  },
  {
   "cell_type": "code",
   "execution_count": 32,
   "id": "cd248251-cbcb-4ecb-a944-67bba2f9c769",
   "metadata": {},
   "outputs": [
    {
     "data": {
      "text/plain": [
       "dict_values(['You are the best', 1, ['4 years old', 1]])"
      ]
     },
     "execution_count": 32,
     "metadata": {},
     "output_type": "execute_result"
    }
   ],
   "source": [
    "Dict_List.values() # shows the values"
   ]
  },
  {
   "cell_type": "code",
   "execution_count": 33,
   "id": "76e7db0c-bb5f-4d75-b7ca-c77092bee38b",
   "metadata": {},
   "outputs": [
    {
     "data": {
      "text/plain": [
       "dict_keys(['Akshay', 'Swat', 'Cheeku'])"
      ]
     },
     "execution_count": 33,
     "metadata": {},
     "output_type": "execute_result"
    }
   ],
   "source": [
    "Dict_List.keys() # shows the keys"
   ]
  },
  {
   "cell_type": "code",
   "execution_count": 34,
   "id": "0ce98d4b-556f-4547-9b62-b7bab5e79db6",
   "metadata": {},
   "outputs": [
    {
     "data": {
      "text/plain": [
       "'You are the best'"
      ]
     },
     "execution_count": 34,
     "metadata": {},
     "output_type": "execute_result"
    }
   ],
   "source": [
    "Dict_List ['Akshay']"
   ]
  },
  {
   "cell_type": "code",
   "execution_count": 35,
   "id": "253195de-d01e-4fb7-8605-d499483f0764",
   "metadata": {},
   "outputs": [],
   "source": [
    "Dict_List ['Akshay'] = 'Swati'"
   ]
  },
  {
   "cell_type": "code",
   "execution_count": 36,
   "id": "f667bfd6-25a0-414a-b0ec-d6b050dd986c",
   "metadata": {},
   "outputs": [
    {
     "name": "stdout",
     "output_type": "stream",
     "text": [
      "{'Akshay': 'Swati', 'Swat': 1, 'Cheeku': ['4 years old', 1]}\n"
     ]
    }
   ],
   "source": [
    "print(Dict_List)"
   ]
  },
  {
   "cell_type": "code",
   "execution_count": 37,
   "id": "bcc7ebd2-b9f2-4ebb-b403-85a3dabe2fda",
   "metadata": {},
   "outputs": [
    {
     "name": "stdout",
     "output_type": "stream",
     "text": [
      "{'Akshay': 'fuck', 'Swat': 35, 'Cheeku': ['4 years old', 1], 'Cheeku2': ['4 years old', 1]}\n"
     ]
    }
   ],
   "source": [
    "Dict_List.update({'Akshay': 'fuck', 'Swat': 35, 'Cheeku2': ['4 years old', 1]}) # if change this before so it will add: no change\n",
    "print(Dict_List)"
   ]
  },
  {
   "cell_type": "code",
   "execution_count": 38,
   "id": "0243b30b-dd47-4095-a0a8-849c91ad7c60",
   "metadata": {},
   "outputs": [
    {
     "data": {
      "text/plain": [
       "True"
      ]
     },
     "execution_count": 38,
     "metadata": {},
     "output_type": "execute_result"
    }
   ],
   "source": [
    "10<=10"
   ]
  },
  {
   "cell_type": "markdown",
   "id": "98ac9c78-62ec-46c1-a08b-4da160f4047f",
   "metadata": {},
   "source": [
    "# If Statements"
   ]
  },
  {
   "cell_type": "code",
   "execution_count": 43,
   "id": "868638a3-48e9-416d-b5b4-b4df5e2e1a46",
   "metadata": {},
   "outputs": [
    {
     "name": "stdout",
     "output_type": "stream",
     "text": [
      "it didnt worked\n"
     ]
    }
   ],
   "source": [
    "if 100<20:\n",
    "    print('it worked')\n",
    "else:\n",
    "    print('it didnt worked')"
   ]
  },
  {
   "cell_type": "code",
   "execution_count": 45,
   "id": "1f22a232-b982-4547-a1f4-3a781f507f67",
   "metadata": {},
   "outputs": [
    {
     "name": "stdout",
     "output_type": "stream",
     "text": [
      "Elif 2 Worked!\n"
     ]
    }
   ],
   "source": [
    "if 100<20:\n",
    "    print('it worked')\n",
    "elif 50<20:\n",
    "    print('Elif 1 Worked!')\n",
    "elif 5<30:\n",
    "    print('Elif 2 Worked!')\n",
    "elif 500<20:\n",
    "    print('Elif 3 Worked!')\n",
    "else:\n",
    "    print('it didnt worked')"
   ]
  },
  {
   "cell_type": "code",
   "execution_count": 47,
   "id": "fe9907b4-b94e-4605-bf78-4a92ce89962b",
   "metadata": {},
   "outputs": [
    {
     "name": "stdout",
     "output_type": "stream",
     "text": [
      "Elif 3 Worked!\n"
     ]
    }
   ],
   "source": [
    "if 100<20:\n",
    "    print('it worked')\n",
    "elif 50<20:\n",
    "    print('Elif 1 Worked!')\n",
    "elif 50<30:\n",
    "    print('Elif 2 Worked!')\n",
    "elif 500<20000:\n",
    "    print('Elif 3 Worked!')\n",
    "else:\n",
    "    print('it didnt worked')"
   ]
  },
  {
   "cell_type": "markdown",
   "id": "a0fa1c04-6259-4649-8e94-b9077ff3159a",
   "metadata": {},
   "source": [
    "# Loops"
   ]
  },
  {
   "cell_type": "code",
   "execution_count": 48,
   "id": "f90676ea-fa6a-40a9-8826-b4a2031995a3",
   "metadata": {},
   "outputs": [],
   "source": [
    "integers = [1,2,3,4,5,6]"
   ]
  },
  {
   "cell_type": "code",
   "execution_count": 52,
   "id": "ac2592df-2e3d-49d5-ac82-157946f9e205",
   "metadata": {},
   "outputs": [
    {
     "name": "stdout",
     "output_type": "stream",
     "text": [
      "1\n",
      "2\n",
      "3\n",
      "4\n",
      "5\n",
      "6\n"
     ]
    }
   ],
   "source": [
    "for number in integers:\n",
    "    print(number)"
   ]
  },
  {
   "cell_type": "code",
   "execution_count": 55,
   "id": "395b649e-6100-492a-afd5-72081e694cfb",
   "metadata": {},
   "outputs": [
    {
     "name": "stdout",
     "output_type": "stream",
     "text": [
      "yoyo!\n",
      "yoyo!\n",
      "yoyo!\n",
      "yoyo!\n",
      "yoyo!\n",
      "yoyo!\n"
     ]
    }
   ],
   "source": [
    "for number in integers:\n",
    "    print('yoyo!')"
   ]
  },
  {
   "cell_type": "code",
   "execution_count": null,
   "id": "4796df91-dba7-4b1d-abd0-a67cc374d517",
   "metadata": {},
   "outputs": [],
   "source": [
    "integers = [1,2,3,4,5,6]"
   ]
  },
  {
   "cell_type": "code",
   "execution_count": 56,
   "id": "e14de3fa-944a-4728-a359-a5997e1aaf92",
   "metadata": {},
   "outputs": [
    {
     "name": "stdout",
     "output_type": "stream",
     "text": [
      "2\n",
      "4\n",
      "6\n",
      "8\n",
      "10\n",
      "12\n"
     ]
    }
   ],
   "source": [
    "for Akshay in integers: # we can call anything for example Akshay here\n",
    "    print(Akshay + Akshay)"
   ]
  },
  {
   "cell_type": "code",
   "execution_count": 58,
   "id": "be6f67fe-3f06-4234-b5e7-069fe84385aa",
   "metadata": {},
   "outputs": [],
   "source": [
    "Loop_Dict_List = {'Akshay' : 'You are the best', 'Swat': 1, 'Cheeku': ['4 years old', 'Only one kid for now']}"
   ]
  },
  {
   "cell_type": "code",
   "execution_count": 60,
   "id": "714e236f-8907-45cd-97a0-da904744dcac",
   "metadata": {},
   "outputs": [
    {
     "name": "stdout",
     "output_type": "stream",
     "text": [
      "You are the best\n",
      "1\n",
      "['4 years old', 'Only one kid for now']\n"
     ]
    }
   ],
   "source": [
    "for Akshay in Loop_Dict_List.values(): # it pulls the values which is after this : whatever here.\n",
    "    print(Akshay)\n"
   ]
  },
  {
   "cell_type": "code",
   "execution_count": 65,
   "id": "5bad23df-6864-452a-9d10-f14ee97a7de8",
   "metadata": {},
   "outputs": [
    {
     "name": "stdout",
     "output_type": "stream",
     "text": [
      "Akshay --> You are the best\n",
      "Swat --> 1\n",
      "Cheeku --> ['4 years old', 'Only one kid for now']\n"
     ]
    }
   ],
   "source": [
    "for keys, values in Loop_Dict_List.items(): # we are pulling both before and after of \":\"\n",
    "    print(keys,'-->', values)"
   ]
  },
  {
   "cell_type": "markdown",
   "id": "9ad18241-b590-48be-ac3a-505f017b18d6",
   "metadata": {},
   "source": [
    "# WHILE LOOP"
   ]
  },
  {
   "cell_type": "code",
   "execution_count": 67,
   "id": "44a6db82-44a0-482a-981a-2666004a8545",
   "metadata": {},
   "outputs": [
    {
     "name": "stdout",
     "output_type": "stream",
     "text": [
      "1\n",
      "2\n",
      "3\n",
      "4\n",
      "5\n"
     ]
    }
   ],
   "source": [
    "number = 1\n",
    "while number <=5:\n",
    "    print(number)\n",
    "    number = number + 1"
   ]
  },
  {
   "cell_type": "code",
   "execution_count": 68,
   "id": "ef3e8c99-951f-4b10-8194-4f8cffdfde0b",
   "metadata": {},
   "outputs": [],
   "source": [
    "# Break staement to break the loop"
   ]
  },
  {
   "cell_type": "code",
   "execution_count": 77,
   "id": "321605db-a43b-45b6-ac64-474b6e06a39a",
   "metadata": {},
   "outputs": [
    {
     "name": "stdout",
     "output_type": "stream",
     "text": [
      "1\n",
      "2\n",
      "3\n",
      "4\n",
      "5\n",
      "6\n",
      "7\n",
      "8\n",
      "9\n",
      "10\n"
     ]
    }
   ],
   "source": [
    "number = 1\n",
    "while number <=50:\n",
    "    print(number)\n",
    "    if number == 10:\n",
    "        break # it will beark the loop at 10 even if the statment is true to 50\n",
    "    number = number + 1"
   ]
  },
  {
   "cell_type": "markdown",
   "id": "d038707c-da84-47eb-95e4-a1167b9a4bff",
   "metadata": {},
   "source": [
    "# FUNCTIONS"
   ]
  },
  {
   "cell_type": "code",
   "execution_count": 78,
   "id": "5d738819-cb0f-4d3b-b2e3-fd8b4be717f5",
   "metadata": {},
   "outputs": [],
   "source": [
    "def first_function():\n",
    "    print('This is my first function')"
   ]
  },
  {
   "cell_type": "code",
   "execution_count": 80,
   "id": "fe470053-f8a9-4cfc-9b78-bb9edaffaebc",
   "metadata": {},
   "outputs": [
    {
     "name": "stdout",
     "output_type": "stream",
     "text": [
      "This is my first function\n"
     ]
    }
   ],
   "source": [
    "first_function() # this is to call the function"
   ]
  },
  {
   "cell_type": "code",
   "execution_count": 82,
   "id": "c04431b4-2e37-45b8-a622-332fe6e7243f",
   "metadata": {},
   "outputs": [],
   "source": [
    "def first_function(number):\n",
    "    print(number**2)"
   ]
  },
  {
   "cell_type": "code",
   "execution_count": 84,
   "id": "bbdf3473-69e8-4d3f-b82a-4bcfb9c30b6e",
   "metadata": {},
   "outputs": [
    {
     "name": "stdout",
     "output_type": "stream",
     "text": [
      "625\n"
     ]
    }
   ],
   "source": [
    "first_function(25)"
   ]
  },
  {
   "cell_type": "markdown",
   "id": "5f1da21a-7cb5-4476-8763-dbaaa5360f3a",
   "metadata": {},
   "source": [
    "# Converting Data Types"
   ]
  },
  {
   "cell_type": "code",
   "execution_count": 85,
   "id": "43a158df-84ae-4a38-8e93-869c31dd09ae",
   "metadata": {},
   "outputs": [],
   "source": [
    "list = [1,2,3,4,5]"
   ]
  },
  {
   "cell_type": "code",
   "execution_count": 86,
   "id": "62da3a62-40b2-40f5-a117-5f52060a0d73",
   "metadata": {},
   "outputs": [
    {
     "data": {
      "text/plain": [
       "list"
      ]
     },
     "execution_count": 86,
     "metadata": {},
     "output_type": "execute_result"
    }
   ],
   "source": [
    "type(list)"
   ]
  },
  {
   "cell_type": "code",
   "execution_count": 92,
   "id": "7312d6c6-6774-4095-a252-4619ae53b956",
   "metadata": {},
   "outputs": [
    {
     "data": {
      "text/plain": [
       "tuple"
      ]
     },
     "execution_count": 92,
     "metadata": {},
     "output_type": "execute_result"
    }
   ],
   "source": [
    "type (tuple(list))"
   ]
  },
  {
   "cell_type": "markdown",
   "id": "a929fe92-0731-4031-8ca2-105fa8bf405a",
   "metadata": {},
   "source": [
    "# BMI Calculator"
   ]
  },
  {
   "cell_type": "code",
   "execution_count": 94,
   "id": "9e3db612-5deb-4c51-a7a4-4eaec8575b61",
   "metadata": {},
   "outputs": [
    {
     "name": "stdin",
     "output_type": "stream",
     "text": [
      "Enter you name:  Akshay\n",
      "Enter your weight in pounds:  170\n",
      "Enter your height in inches:  69\n"
     ]
    },
    {
     "name": "stdout",
     "output_type": "stream",
     "text": [
      "25.101869355177485\n",
      "Akshay, you are overweight. You need to exercise more and stop sitting and writing so many python tutorials.\n"
     ]
    }
   ],
   "source": [
    "\n",
    "name = input(\"Enter you name: \")\n",
    "\n",
    "weight = int(input(\"Enter your weight in pounds: \"))\n",
    "\n",
    "height = int(input(\"Enter your height in inches: \"))\n",
    "\n",
    "BMI = (weight * 703) / (height * height)\n",
    "\n",
    "print(BMI)\n",
    "\n",
    "if BMI>0:\n",
    "    if(BMI<18.5):\n",
    "        print(name +\", you are underwight.\")\n",
    "    elif (BMI<=24.9):\n",
    "        print(name +\", you are normal weight.\")\n",
    "    elif (BMI<29.9):\n",
    "        print(name +\", you are overweight. You need to exercise more and stop sitting and writing so many python tutorials.\")\n",
    "    elif (BMI<34.9):\n",
    "        print(name +\", you are obese.\")\n",
    "    elif (BMI<39.9):\n",
    "        print(name +\", you are severely obese.\")\n",
    "    else:\n",
    "        print(name +\", you are morbidly obese.\")\n",
    "else:\n",
    "    print(\"Enter valid input\")"
   ]
  },
  {
   "cell_type": "code",
   "execution_count": null,
   "id": "5281f96f-6305-4f3e-b7e9-b81decd4506a",
   "metadata": {},
   "outputs": [],
   "source": []
  },
  {
   "cell_type": "code",
   "execution_count": null,
   "id": "f02fe46e-2963-4c3a-a8de-a9d6d07fb5b9",
   "metadata": {},
   "outputs": [],
   "source": []
  },
  {
   "cell_type": "code",
   "execution_count": null,
   "id": "9e599f99-d9ae-4d87-8493-46f84062fde4",
   "metadata": {},
   "outputs": [],
   "source": []
  },
  {
   "cell_type": "code",
   "execution_count": null,
   "id": "b952d78d-baf7-48ee-93c0-c18892038906",
   "metadata": {},
   "outputs": [],
   "source": []
  },
  {
   "cell_type": "code",
   "execution_count": null,
   "id": "856893b5-e429-4988-bda1-7daf953d345c",
   "metadata": {},
   "outputs": [],
   "source": []
  },
  {
   "cell_type": "code",
   "execution_count": null,
   "id": "42be4b67-e8fa-489a-8444-2671d56a37b6",
   "metadata": {},
   "outputs": [],
   "source": []
  },
  {
   "cell_type": "code",
   "execution_count": null,
   "id": "ea2ffe05-cd3b-4ca0-b68b-bbf594321f0b",
   "metadata": {},
   "outputs": [],
   "source": []
  },
  {
   "cell_type": "code",
   "execution_count": null,
   "id": "9956f538-3efa-48ea-bd07-b24fc425e8a8",
   "metadata": {},
   "outputs": [],
   "source": []
  },
  {
   "cell_type": "code",
   "execution_count": null,
   "id": "7dc4f733-0f85-4c31-a695-56d0eedb4628",
   "metadata": {},
   "outputs": [],
   "source": []
  },
  {
   "cell_type": "code",
   "execution_count": null,
   "id": "6b618cc2-04c4-42e0-aa2e-5de223543ba0",
   "metadata": {},
   "outputs": [],
   "source": []
  },
  {
   "cell_type": "code",
   "execution_count": null,
   "id": "7edf7405-9bc7-411b-b076-b9be1308b214",
   "metadata": {},
   "outputs": [],
   "source": []
  },
  {
   "cell_type": "code",
   "execution_count": null,
   "id": "8debfb62-b11e-47e3-aa65-b6282407b633",
   "metadata": {},
   "outputs": [],
   "source": []
  },
  {
   "cell_type": "code",
   "execution_count": null,
   "id": "5ef666d1-e23e-44a3-9069-b8d8d1aa72ed",
   "metadata": {},
   "outputs": [],
   "source": []
  },
  {
   "cell_type": "code",
   "execution_count": null,
   "id": "04464897-d015-407a-959e-8c8b87299ef5",
   "metadata": {},
   "outputs": [],
   "source": []
  },
  {
   "cell_type": "code",
   "execution_count": null,
   "id": "2b7d1e98-62b7-48da-99a0-825e884a4381",
   "metadata": {},
   "outputs": [],
   "source": []
  },
  {
   "cell_type": "code",
   "execution_count": null,
   "id": "dbbba338-b8e3-4b54-81c9-c7f9941387e8",
   "metadata": {},
   "outputs": [],
   "source": []
  },
  {
   "cell_type": "code",
   "execution_count": null,
   "id": "12aaa4b5-9c71-477c-9e84-5e785d36f8c7",
   "metadata": {},
   "outputs": [],
   "source": []
  },
  {
   "cell_type": "code",
   "execution_count": null,
   "id": "4ae84c61-d0b3-45c4-8230-120eaf603411",
   "metadata": {},
   "outputs": [],
   "source": []
  },
  {
   "cell_type": "code",
   "execution_count": null,
   "id": "aa597e27-3abc-48bc-a5ec-ccb47490b3ed",
   "metadata": {},
   "outputs": [],
   "source": []
  },
  {
   "cell_type": "code",
   "execution_count": null,
   "id": "d3100c14-9c94-435b-ab14-30064cb3f9da",
   "metadata": {},
   "outputs": [],
   "source": []
  },
  {
   "cell_type": "code",
   "execution_count": null,
   "id": "b55d9be1-5ca6-40d7-b5a4-1ceb64ac7c9e",
   "metadata": {},
   "outputs": [],
   "source": []
  },
  {
   "cell_type": "code",
   "execution_count": null,
   "id": "0fddd3cc-eeba-42ce-84f9-7176775c1521",
   "metadata": {},
   "outputs": [],
   "source": []
  },
  {
   "cell_type": "code",
   "execution_count": null,
   "id": "fd3ffa42-5567-4c17-8dc4-d73ad1ad75f0",
   "metadata": {},
   "outputs": [],
   "source": []
  },
  {
   "cell_type": "code",
   "execution_count": null,
   "id": "971a70c5-f2a8-4c0d-b741-4ea6c44c5568",
   "metadata": {},
   "outputs": [],
   "source": []
  },
  {
   "cell_type": "code",
   "execution_count": null,
   "id": "61c60e6b-61bf-4214-8727-0ca0e0c49bc8",
   "metadata": {},
   "outputs": [],
   "source": []
  }
 ],
 "metadata": {
  "kernelspec": {
   "display_name": "Python 3 (ipykernel)",
   "language": "python",
   "name": "python3"
  },
  "language_info": {
   "codemirror_mode": {
    "name": "ipython",
    "version": 3
   },
   "file_extension": ".py",
   "mimetype": "text/x-python",
   "name": "python",
   "nbconvert_exporter": "python",
   "pygments_lexer": "ipython3",
   "version": "3.12.7"
  }
 },
 "nbformat": 4,
 "nbformat_minor": 5
}
